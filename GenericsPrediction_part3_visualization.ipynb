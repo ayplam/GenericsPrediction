{
 "cells": [
  {
   "cell_type": "markdown",
   "metadata": {},
   "source": [
    "## GenericsPrediction - Data Visualization\n",
    "\n",
    "###Contact: Adrian Lam; ayplam@gmail.com\n",
    "\n",
    "#### Notes:\n",
    "* No project is ever complete without some data visualization!\n",
    "* JSON files are created to allow visualization with D3\n",
    "* All results can be found at [ayplam.github.io/fdagx](ayplam.github.io/fdagx)\n"
   ]
  },
  {
   "cell_type": "code",
   "execution_count": null,
   "metadata": {
    "collapsed": false
   },
   "outputs": [],
   "source": [
    "import pandas as pd\n",
    "import json\n",
    "import numpy as np\n",
    "from datetime import date, timedelta as td, datetime\n",
    "\n",
    "%matplotlib inline\n",
    "import matplotlib\n",
    "import matplotlib.pylab as plt\n",
    "import seaborn as sns\n",
    "matplotlib.rcParams['savefig.dpi'] = 2 * matplotlib.rcParams['savefig.dpi']\n",
    "\n",
    "def year_frac(pd_series):\n",
    "    return pd_series.apply(lambda x: x.year + float((x-datetime(x.year,1,1) ).days) / \\\n",
    "                           ( datetime(x.year+1,1,1)-datetime(x.year,1,1) ).days )\n",
    "\n",
    "def unix_time(dt):\n",
    "    epoch = datetime.utcfromtimestamp(0)\n",
    "    delta = dt - epoch\n",
    "    \n",
    "    if isinstance(delta,pd.Series):\n",
    "        return delta.astype('timedelta64[s]') + 3600\n",
    "    else:\n",
    "        return delta.total_seconds()\n",
    "\n",
    "def unix_time_millis(dt):\n",
    "    return unix_time(dt)*1000"
   ]
  },
  {
   "cell_type": "markdown",
   "metadata": {},
   "source": [
    "## Visualization of drug history over time"
   ]
  },
  {
   "cell_type": "code",
   "execution_count": null,
   "metadata": {
    "collapsed": false
   },
   "outputs": [],
   "source": [
    "# Get the drug history, two line plots.\n",
    "df_drugcounthistory = pd.read_csv('drugcounthistory.csv', sep = ',')\n",
    "df_drugcounthistory['andacumsum'] = df_drugcounthistory['andacount'].cumsum()\n",
    "df_drugcounthistory['ndacumsum'] = df_drugcounthistory['ndacount'].cumsum()\n",
    "df_drugcounthistory['andastt'] = pd.to_datetime(df_drugcounthistory['andastt'])\n",
    "df_drugcounthistory['ndastt'] = pd.to_datetime(df_drugcounthistory['ndastt'])\n",
    "\n",
    "\n",
    "df_drugcounthistory['anda_unixms'] = unix_time_millis(df_drugcounthistory['andastt'])\n",
    "df_drugcounthistory['nda_unixms'] = unix_time_millis(df_drugcounthistory['ndastt'])\n",
    "\n",
    "json_data = []\n",
    "\n",
    "\n",
    "json_data.append ( dict({'key': 'Number of Unique ANDAs', \n",
    "                         'color': '#4455dd',\n",
    "                         'values': [dict(zip(['x','y'],[x,y])) for x,y in zip(df_drugcounthistory['anda_unixms'].values, \\\n",
    "                                                         df_drugcounthistory['andacumsum'].values)] }) )\n",
    "\n",
    "json_data.append ( dict({'key': 'Number of Unique NDAs',\n",
    "                         'color': '#ff7f0e',\n",
    "                         'values': [dict(zip(['x','y'],[x,y])) for x,y in zip(df_drugcounthistory['nda_unixms'].values, \\\n",
    "                                                         df_drugcounthistory['ndacumsum'].values)] }) )\n",
    "\n",
    "\n",
    "\n",
    "print len(df_drugcounthistory)\n",
    "ticks = (df_drugcounthistory['ndastt'][-1:].values - df_drugcounthistory['ndastt'][:1].values) / 4\n",
    "for i in (np.arange(4)+1):\n",
    "    print unix_time_millis(df_drugcounthistory['ndastt'][:1])\n",
    "    print unix_time_millis(df_drugcounthistory['ndastt'][:1] + ticks*i).map(str)\n",
    "\n",
    "with open('/home/vagrant/website/data/drugcounthistory.json', 'w') as outfile:\n",
    "    json.dump(json_data, outfile)"
   ]
  },
  {
   "cell_type": "code",
   "execution_count": null,
   "metadata": {
    "collapsed": false
   },
   "outputs": [],
   "source": [
    "# Drug history, plot #2. Stacked bar graph\n",
    "df_drugcounthistory = pd.read_csv('drugcounthistory.csv', sep = ',')\n",
    "\n",
    "df_drugcounthistory['andastt'] = pd.to_datetime(df_drugcounthistory['andastt'])\n",
    "df_drugcounthistory['ndastt'] = pd.to_datetime(df_drugcounthistory['ndastt'])\n",
    "\n",
    "years = np.arange(15) + 2000\n",
    "andayrcount = []\n",
    "ndayrcount = []\n",
    "\n",
    "for year in years:\n",
    "    andayrcount.append( df_drugcounthistory[df_drugcounthistory['andastt'].map(lambda x: x.year == year)]['andacount'].sum() )\n",
    "    ndayrcount.append( df_drugcounthistory[df_drugcounthistory['ndastt'].map(lambda x: x.year == year)]['ndacount'].sum() )\n",
    "    \n",
    "json_data = []\n",
    "\n",
    "years_str = []\n",
    "for year in years:\n",
    "    years_str.append(\"Year: \" + str(year))\n",
    "\n",
    "\n",
    "json_data.append ( dict({'key': 'Number of Unique ANDAs', \n",
    "                         'color': '#4455dd',\n",
    "                         'values': [dict(zip(['x','y'],[x,y])) for x,y in zip(years, \\\n",
    "                                                         andayrcount)] }) )\n",
    "\n",
    "json_data.append ( dict({'key': 'Number of Unique NDAs', \n",
    "                         'color': '#ff7f0e',\n",
    "                         'values': [dict(zip(['x','y'],[x,y])) for x,y in zip(years, \\\n",
    "                                                         ndayrcount)] }) )\n",
    "\n",
    "with open('/home/vagrant/website/data/drugcounthistory_bar.json', 'w') as outfile:\n",
    "    json.dump(json_data, outfile)"
   ]
  },
  {
   "cell_type": "code",
   "execution_count": null,
   "metadata": {
    "collapsed": false
   },
   "outputs": [],
   "source": [
    "\n",
    "def unix_time(dt):\n",
    "    epoch = datetime.utcfromtimestamp(0)\n",
    "    delta = dt - epoch\n",
    "    \n",
    "    if isinstance(delta,pd.Series):\n",
    "        return delta.astype('timedelta64[s]')\n",
    "    else:\n",
    "        return delta.total_seconds()\n",
    "\n",
    "\n",
    "# The bar graph csv had UNIQUE NDAs and ANDAs while the FIRST graph had ALL NDAs/ANDAs released, regardless of unique or not.\n",
    "df_drugcounthistory = pd.read_csv('drugcounthistory.csv', sep = ',')\n",
    "\n",
    "df_drugcounthistory['andastt'] = pd.to_datetime(df_drugcounthistory['andastt'])\n",
    "df_drugcounthistory['ndastt'] = pd.to_datetime(df_drugcounthistory['ndastt'])\n",
    "df_drugcounthistory = df_drugcounthistory[df_drugcounthistory['andastt'].map(lambda x: x.year >= 2000)]\n",
    "df_drugcounthistory['anda_unixms'] = unix_time_millis(df_drugcounthistory['andastt'])\n",
    "df_drugcounthistory['nda_unixms'] = unix_time_millis(df_drugcounthistory['ndastt'])\n",
    "df_drugcounthistory['andacumsum'] = df_drugcounthistory['andacount'].cumsum()\n",
    "df_drugcounthistory['ndacumsum'] = df_drugcounthistory['ndacount'].cumsum()\n",
    "\n",
    "json_data = []\n",
    "\n",
    "json_data.append ( dict({'key': 'Unique ANDAs', \n",
    "                         'color': '#4455dd',\n",
    "                         'values': [dict(zip(['x','y'],[int(x),int(y)])) for x,y in zip(df_drugcounthistory['anda_unixms'].values, \\\n",
    "                                                         df_drugcounthistory['andacumsum'])] }) )\n",
    "\n",
    "json_data.append ( dict({'key': 'Unique NDAs', \n",
    "                         'color': '#ff7f0e',\n",
    "                         'values': [dict(zip(['x','y'],[int(x),int(y)])) for x,y in zip(df_drugcounthistory['nda_unixms'].values, \\\n",
    "                                                         df_drugcounthistory['ndacumsum'])] }) )\n",
    "\n",
    "\n",
    "with open('C:/Users/Adrian Lam/Dropbox/Personal/Website/gxbackground/drugcounthistory_line.json', 'w') as outfile:\n",
    "    json.dump(json_data, outfile)"
   ]
  },
  {
   "cell_type": "code",
   "execution_count": null,
   "metadata": {
    "collapsed": true
   },
   "outputs": [],
   "source": [
    "# bar graph for day of week releases\n",
    "\n",
    "dow = ['Sunday','Monday','Tuesday','Wednesday','Thursday','Friday','Saturday']\n",
    "xran = xrange(7)\n",
    "release_fda_anda = [528,5440,4920,5091,4341,4067,804]\n",
    "release_mck = [1,27,359,254,227,219,344]\n",
    "json_dow= []\n",
    "\n",
    "\n",
    "json_dow.append ( dict({'key': 'FDA Releases', \n",
    "                         'color': '#4455dd',\n",
    "                         'values': [dict(zip(['x','y'],[x,y])) for x,y in zip(xran, \\\n",
    "                                                         release_fda_anda)] }) )\n",
    "json_dow.append ( dict({'key': 'McK Releases', \n",
    "                         'color': '#ff7f0e',\n",
    "                         'values': [dict(zip(['x','y'],[x,y])) for x,y in zip(xran, \\\n",
    "                                                         release_mck)] }) )\n",
    "\n",
    "\n",
    "with open('/home/vagrant/website/data/andavsmck_dow.json', 'w') as outfile:\n",
    "    json.dump(json_dow, outfile)"
   ]
  },
  {
   "cell_type": "code",
   "execution_count": null,
   "metadata": {
    "collapsed": false
   },
   "outputs": [],
   "source": [
    "# line graph for day of week releases\n",
    "\n",
    "dow = ['Sunday','Monday','Tuesday','Wednesday','Thursday','Friday','Saturday']\n",
    "xran = xrange(7)\n",
    "release_fda_anda = [528,5440,4920,5091,4341,4067,804]\n",
    "release_mck = [1,27,359,254,227,219,344]\n",
    "json_dow= []\n",
    "\n",
    "\n",
    "json_dow.append ( dict({'key': 'FDA Releases', \n",
    "                         'color': '#4455dd',\n",
    "                         'values': [dict(zip(['x','y'],[x,y])) for x,y in zip(xran, release_fda_anda)] }) )\n",
    "\n",
    "json_dow.append ( dict({'key': 'McK Releases',\n",
    "                         'color': '#ff7f0e',\n",
    "                         'values': [dict(zip(['x','y'],[x,y])) for x,y in zip(xran, release_mck)] }) )\n",
    "\n",
    "\n",
    "with open('/home/vagrant/website/data/andavsmck_dow.json', 'w') as outfile:\n",
    "    json.dump(json_dow, outfile)"
   ]
  },
  {
   "cell_type": "code",
   "execution_count": null,
   "metadata": {
    "collapsed": false
   },
   "outputs": [],
   "source": [
    "# Releases over time: 2009 - Current\n",
    "df_majorsuppliers = pd.read_csv('major_supplier_release_dates.csv', sep = ',')\n",
    "print df_majorsuppliers.columns\n",
    "df_majorsuppliers['startmktdate'] = pd.to_datetime(df_majorsuppliers['startmktdate'])\n",
    "s_releases = df_majorsuppliers.sort(['startmktdate']).groupby(['startmktdate'])['startmktdate'].count()"
   ]
  },
  {
   "cell_type": "code",
   "execution_count": null,
   "metadata": {
    "collapsed": false
   },
   "outputs": [],
   "source": [
    "s_releases_after_2k = s_releases[s_releases.index.year >= 2009]\n",
    "\n",
    "ser = [0] * len(s_releases_after_2k)\n",
    "df_year = pd.DataFrame()\n",
    "df_year['year'] = s_releases_after_2k.index\n",
    "x = year_frac(df_year['year'])\n",
    "json_data = []\n",
    "# print s_releases_after_2k.index.map(lambda x: str(x.date()))\n",
    "# print s_releases_after_2k.values\n",
    "json_data.append ( dict({'key': 'Number of Launches 2009 - current', \n",
    "                         'values': [dict(zip(['x','y','series'],[x,y,0])) for x,y in zip(x, \\\n",
    "                                                         s_releases_after_2k.values)] }) )\n",
    "\n",
    "\n",
    "with open('/home/vagrant/website/data/releases09toCurr.json', 'w') as outfile:\n",
    "    json.dump(json_data, outfile)"
   ]
  },
  {
   "cell_type": "code",
   "execution_count": null,
   "metadata": {
    "collapsed": false,
    "scrolled": true
   },
   "outputs": [],
   "source": [
    "# FFT of releases:\n",
    "\n",
    "\n",
    "\n",
    "xdata = list(xVals[:1186])\n",
    "ydata = np.abs(fft)[:1186]\n",
    "ser = [0] * len(xdata)\n",
    "json_data = []\n",
    "\n",
    "# print s_releases_after_2k.index.map(lambda x: str(x.date()))\n",
    "# print s_releases_after_2k.values\n",
    "json_data.append ( dict({'key': 'Release Frequency', \n",
    "                         'values': [dict(zip(['x','y','series'],[x,y[0],z])) for x,y,z in zip(xdata, \\\n",
    "                                                         ydata.tolist(), ser)] }) )\n",
    "\n",
    "\n",
    "\n",
    "with open('/home/vagrant/website/data/frequency.json', 'w') as outfile:\n",
    "    json.dump(json_data, outfile)"
   ]
  },
  {
   "cell_type": "code",
   "execution_count": null,
   "metadata": {
    "collapsed": true
   },
   "outputs": [],
   "source": [
    "## Number of Releases, Grouped By Day of Month. MCK seriously looks pretty random"
   ]
  },
  {
   "cell_type": "code",
   "execution_count": null,
   "metadata": {
    "collapsed": false
   },
   "outputs": [],
   "source": [
    "df_daymo = pd.read_csv('2006toCurr_GroupByDayInMonth.csv', sep = ',')\n",
    "\n",
    "df_daymo['fda_norm'] = df_daymo['fdacnt'] / df_daymo['fdacnt'].sum()\n",
    "df_daymo['mck_norm'] = df_daymo['mckcnt'] / df_daymo['mckcnt'].sum()\n",
    "df_daymo[['fda_norm','mck_norm']].plot()"
   ]
  },
  {
   "cell_type": "code",
   "execution_count": null,
   "metadata": {
    "collapsed": true
   },
   "outputs": [],
   "source": []
  }
 ],
 "metadata": {
  "kernelspec": {
   "display_name": "Python 2",
   "language": "python",
   "name": "python2"
  },
  "language_info": {
   "codemirror_mode": {
    "name": "ipython",
    "version": 2
   },
   "file_extension": ".py",
   "mimetype": "text/x-python",
   "name": "python",
   "nbconvert_exporter": "python",
   "pygments_lexer": "ipython2",
   "version": "2.7.10"
  }
 },
 "nbformat": 4,
 "nbformat_minor": 0
}
